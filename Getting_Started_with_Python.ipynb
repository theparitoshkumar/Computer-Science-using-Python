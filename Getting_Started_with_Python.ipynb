{
  "nbformat": 4,
  "nbformat_minor": 0,
  "metadata": {
    "colab": {
      "provenance": [],
      "collapsed_sections": [
        "tGui293wgcrR",
        "UbHn7LDoutQh",
        "sG_imUAciisY",
        "R72nhe2fgjUI",
        "3PWmgm7KjcB4",
        "99zUJq2ylYb_",
        "XDoN5O8UmvKf",
        "FcfibxjSouew",
        "JzJAg9mzqdpx",
        "3fldRmb9rDU5",
        "OTLN3vrsrv5B",
        "Zlmd0qkitKat"
      ],
      "authorship_tag": "ABX9TyOYt44BuDlJrXsDyZRPnxl4",
      "include_colab_link": true
    },
    "kernelspec": {
      "name": "python3",
      "display_name": "Python 3"
    },
    "language_info": {
      "name": "python"
    }
  },
  "cells": [
    {
      "cell_type": "markdown",
      "metadata": {
        "id": "view-in-github",
        "colab_type": "text"
      },
      "source": [
        "<a href=\"https://colab.research.google.com/github/theparitoshkumar/Computer-Science-using-Python/blob/main/Getting_Started_with_Python.ipynb\" target=\"_parent\"><img src=\"https://colab.research.google.com/assets/colab-badge.svg\" alt=\"Open In Colab\"/></a>"
      ]
    },
    {
      "cell_type": "markdown",
      "source": [
        "# Getting Started with Python"
      ],
      "metadata": {
        "id": "2-Xy6OETgXTS"
      }
    },
    {
      "cell_type": "markdown",
      "source": [
        "## Introduction to Python"
      ],
      "metadata": {
        "id": "tGui293wgcrR"
      }
    },
    {
      "cell_type": "markdown",
      "source": [
        "### Features of Python"
      ],
      "metadata": {
        "id": "UbHn7LDoutQh"
      }
    },
    {
      "cell_type": "markdown",
      "source": [
        "Python is a popular high-level programming language known for its simplicity, readability, and flexibility. Here are some of its key features:\n",
        "\n",
        "1. Easy to Learn: Python has a simple syntax that is easy to learn, read and understand.\n",
        "\n",
        "2. Interpreted Language: Python is an interpreted language, which means that it does not require compilation before running the code. This makes it faster and more flexible than compiled languages.\n",
        "\n",
        "3. Object-Oriented: Python supports object-oriented programming (OOP) concepts, allowing developers to write code that is more modular, reusable, and maintainable.\n",
        "\n",
        "4. Cross-Platform: Python can be run on various platforms, including Windows, Linux, and macOS. This makes it a versatile language that can be used on different devices.\n",
        "\n",
        "5. Extensive Library: Python comes with a large library of pre-written code that can be used to perform a variety of tasks, such as web development, data analysis, scientific computing, and more.\n",
        "\n",
        "6. Dynamic Typing: Python is dynamically typed, which means that variables do not need to be declared before use. This makes the code shorter and easier to write.\n",
        "\n",
        "7. Strong Community: Python has a strong and active community of developers who contribute to the language and its libraries, providing support, resources, and tools for others to use.\n",
        "\n",
        "8. High-Level Language: Python is a high-level language that offers a more abstracted view of the code, making it easier to write and understand.\n",
        "\n",
        "9. Open Source: Python is an open-source language, which means that it is free to use and can be modified and distributed by anyone.\n",
        "\n",
        "10. Versatile: Python can be used for a wide range of applications, including web development, machine learning, data analysis, game development, scientific computing, and more."
      ],
      "metadata": {
        "id": "sG_imUAciisY"
      }
    },
    {
      "cell_type": "markdown",
      "source": [
        "**Interpretering**"
      ],
      "metadata": {
        "id": "Z-uLrr0ejM6h"
      }
    },
    {
      "cell_type": "code",
      "source": [
        "2+2"
      ],
      "metadata": {
        "colab": {
          "base_uri": "https://localhost:8080/"
        },
        "id": "hpQTxCxoiynJ",
        "outputId": "d197e70a-b61a-4268-868e-ee93f66856a2"
      },
      "execution_count": 3,
      "outputs": [
        {
          "output_type": "execute_result",
          "data": {
            "text/plain": [
              "4"
            ]
          },
          "metadata": {},
          "execution_count": 3
        }
      ]
    },
    {
      "cell_type": "code",
      "source": [
        "4-2"
      ],
      "metadata": {
        "colab": {
          "base_uri": "https://localhost:8080/"
        },
        "id": "g-flgCWWjAm4",
        "outputId": "8ac7bee7-865f-4209-dc76-a97f1f2b5ab2"
      },
      "execution_count": 4,
      "outputs": [
        {
          "output_type": "execute_result",
          "data": {
            "text/plain": [
              "2"
            ]
          },
          "metadata": {},
          "execution_count": 4
        }
      ]
    },
    {
      "cell_type": "code",
      "source": [
        "\"Hello\" + \"World\""
      ],
      "metadata": {
        "colab": {
          "base_uri": "https://localhost:8080/",
          "height": 35
        },
        "id": "_GjHh6a_jCiR",
        "outputId": "5a2a3a1a-62f3-487b-8806-2fcb43b0f788"
      },
      "execution_count": 5,
      "outputs": [
        {
          "output_type": "execute_result",
          "data": {
            "text/plain": [
              "'HelloWorld'"
            ],
            "application/vnd.google.colaboratory.intrinsic+json": {
              "type": "string"
            }
          },
          "metadata": {},
          "execution_count": 5
        }
      ]
    },
    {
      "cell_type": "markdown",
      "source": [
        "### **Program 1 :** Print \"Hello World!\""
      ],
      "metadata": {
        "id": "R72nhe2fgjUI"
      }
    },
    {
      "cell_type": "code",
      "source": [
        "print(\"Hello World!\")"
      ],
      "metadata": {
        "colab": {
          "base_uri": "https://localhost:8080/"
        },
        "id": "nhQx-vzhgntB",
        "outputId": "657a5b35-630d-40a1-bc57-3fa0c472853a"
      },
      "execution_count": 1,
      "outputs": [
        {
          "output_type": "stream",
          "name": "stdout",
          "text": [
            "Hello World!\n"
          ]
        }
      ]
    },
    {
      "cell_type": "markdown",
      "source": [
        "### Python Keywords"
      ],
      "metadata": {
        "id": "3PWmgm7KjcB4"
      }
    },
    {
      "cell_type": "markdown",
      "source": [
        "Keywords are reserved words in Python that have a specific meaning and purpose within the language.\n",
        "They cannot be used as variable names, function names, or any other identifier within a program. Here is a list of all the keywords in Python:\n",
        "\n",
        "- **and** - Logical and operator\n",
        "- **as** - Alias for module, function or variable names\n",
        "- **assert** - Checks if a condition is true\n",
        "- **break** - Terminates a loop or switch statement\n",
        "- **class** - Defines a class\n",
        "- **continue** - Skips an iteration in a loop\n",
        "- **def** - Defines a function\n",
        "- **del** - Deletes an object\n",
        "- **elif** - Alternative to if statement\n",
        "- **else** - Alternative to if statement\n",
        "- **except** - Catches an exception\n",
        "- **False** - Boolean value\n",
        "- **finally** - Executes code regardless of exceptions\n",
        "- **for** - Iterates over a sequence\n",
        "- **from** - Importing specific parts of a module\n",
        "- **global** - Specifies a global variable\n",
        "- **if** - Executes code if a condition is true\n",
        "- **import** - Imports a module\n",
        "- **in** - Tests if a value is in a sequence\n",
        "- **is** - Tests if two objects are equal\n",
        "- **lambda** - Creates an anonymous function\n",
        "- **None** - Represents a null or empty value\n",
        "- **nonlocal** - Specifies a non-local variable\n",
        "- **not** - Logical not operator\n",
        "- **or** - Logical or operator\n",
        "- **pass** - Does nothing, used as a placeholder\n",
        "- **raise** - Raises an exception\n",
        "- **return** - Returns a value from a function\n",
        "- **True** - Boolean value\n",
        "- **try** - Tries a block of code for exceptions\n",
        "- **while** - Executes a block of code while a condition is true\n",
        "- **with** - Creates a context for a block of code\n",
        "- **yield** - Returns a generator object\n",
        "\n",
        "*It's important to note that these keywords cannot be used as variable or function names in Python, as they have a special meaning within the language.*"
      ],
      "metadata": {
        "id": "vioDeny8jfC4"
      }
    },
    {
      "cell_type": "markdown",
      "source": [
        "### Identifiers"
      ],
      "metadata": {
        "id": "99zUJq2ylYb_"
      }
    },
    {
      "cell_type": "markdown",
      "source": [
        "In Python, an identifier is a name used to identify a variable, function, class, or any other user-defined object. Identifiers are case-sensitive and can include letters, digits, and underscores. However, they must follow certain rules:\n",
        "\n",
        "* The first character must be a letter or an underscore (_).\n",
        "* The rest of the characters can be letters, digits, or underscores.\n",
        "* Identifiers cannot start with a digit.\n",
        "* Identifiers cannot be a Python keyword.\n",
        "\n"
      ],
      "metadata": {
        "id": "qe5Zml9XlpIQ"
      }
    },
    {
      "cell_type": "markdown",
      "source": [
        "**Here are some examples of valid identifiers in Python:**"
      ],
      "metadata": {
        "id": "udiV3ZNOmKc8"
      }
    },
    {
      "cell_type": "code",
      "source": [
        "x = None\n",
        "_abc = None\n",
        "my_variable = None\n",
        "myClass = None\n",
        "xyz123 =None\n",
        "print(x,_abc,my_variable,myClass,xyz123)"
      ],
      "metadata": {
        "colab": {
          "base_uri": "https://localhost:8080/"
        },
        "id": "r7cmZI4HmMci",
        "outputId": "a75962d9-9753-42e1-85f7-5fe37a205119"
      },
      "execution_count": 13,
      "outputs": [
        {
          "output_type": "stream",
          "name": "stdout",
          "text": [
            "None None None None None\n"
          ]
        }
      ]
    },
    {
      "cell_type": "markdown",
      "source": [
        "**Here are some examples of invalid identifiers:**"
      ],
      "metadata": {
        "id": "QCHNV9PvmeDa"
      }
    },
    {
      "cell_type": "code",
      "source": [
        "123variable = None\n",
        "for = None\n",
        "my-variable = None\n",
        "class = None\n",
        "print(123variable,for,my-variable,my-variable,class)"
      ],
      "metadata": {
        "colab": {
          "base_uri": "https://localhost:8080/",
          "height": 130
        },
        "id": "z2MNJw4hmiTh",
        "outputId": "6c156e1e-ba78-40ba-c121-77a0508c15c5"
      },
      "execution_count": 14,
      "outputs": [
        {
          "output_type": "error",
          "ename": "SyntaxError",
          "evalue": "ignored",
          "traceback": [
            "\u001b[0;36m  File \u001b[0;32m\"<ipython-input-14-1c4a13efe0a7>\"\u001b[0;36m, line \u001b[0;32m1\u001b[0m\n\u001b[0;31m    123variable = None\u001b[0m\n\u001b[0m       ^\u001b[0m\n\u001b[0;31mSyntaxError\u001b[0m\u001b[0;31m:\u001b[0m invalid syntax\n"
          ]
        }
      ]
    },
    {
      "cell_type": "markdown",
      "source": [
        "### Variables"
      ],
      "metadata": {
        "id": "XDoN5O8UmvKf"
      }
    },
    {
      "cell_type": "markdown",
      "source": [
        "In Python, variables are used to store values that can be used later in the program. A variable is created when a value is assigned to it using the assignment operator (=)."
      ],
      "metadata": {
        "id": "xWYwCM-WmzpZ"
      }
    },
    {
      "cell_type": "markdown",
      "source": [
        "**Here's an example:**"
      ],
      "metadata": {
        "id": "pVaQ4OernaVq"
      }
    },
    {
      "cell_type": "code",
      "source": [
        "x = 5\n",
        "print(x)"
      ],
      "metadata": {
        "colab": {
          "base_uri": "https://localhost:8080/"
        },
        "id": "h1jt-q9BnjXS",
        "outputId": "abdad4e8-692e-44a4-8723-2441a83d356b"
      },
      "execution_count": 15,
      "outputs": [
        {
          "output_type": "stream",
          "name": "stdout",
          "text": [
            "5\n"
          ]
        }
      ]
    },
    {
      "cell_type": "markdown",
      "source": [
        "*In this example, we're creating a variable called x and assigning the value 5 to it. Now we can use x in our program wherever we need the value 5.*"
      ],
      "metadata": {
        "id": "mQdjHBV4noFK"
      }
    },
    {
      "cell_type": "markdown",
      "source": [
        "Variables can hold different types of values, including integers, floats, strings, booleans, and more. The type of value stored in a variable is determined dynamically based on the value that's assigned to it. \n"
      ],
      "metadata": {
        "id": "QxHl3S3_ntQQ"
      }
    },
    {
      "cell_type": "markdown",
      "source": [
        "**For example:**"
      ],
      "metadata": {
        "id": "fHnvD1mtn0pP"
      }
    },
    {
      "cell_type": "code",
      "source": [
        "x = 5       # integer\n",
        "y = 3.14    # float\n",
        "z = \"hello\" # string\n",
        "print(x,y,z)"
      ],
      "metadata": {
        "colab": {
          "base_uri": "https://localhost:8080/"
        },
        "id": "Fv61fUKEn2-Y",
        "outputId": "5baeb197-e25c-44b6-8867-d7a8f5ee4704"
      },
      "execution_count": 16,
      "outputs": [
        {
          "output_type": "stream",
          "name": "stdout",
          "text": [
            "5 3.14 hello\n"
          ]
        }
      ]
    },
    {
      "cell_type": "markdown",
      "source": [
        "We can also change the value of a variable later in the program by assigning a new value to it:"
      ],
      "metadata": {
        "id": "81WkrVr9oAyB"
      }
    },
    {
      "cell_type": "code",
      "source": [
        "x = 5\n",
        "print(x)\n",
        "x = 10\n",
        "print(x)"
      ],
      "metadata": {
        "colab": {
          "base_uri": "https://localhost:8080/"
        },
        "id": "jUlBGWF0oE9b",
        "outputId": "90c98829-b81c-4a2c-d3c3-68db6b103362"
      },
      "execution_count": 17,
      "outputs": [
        {
          "output_type": "stream",
          "name": "stdout",
          "text": [
            "5\n",
            "10\n"
          ]
        }
      ]
    },
    {
      "cell_type": "markdown",
      "source": [
        "*In this example, we're changing the value of x from 5 to 10.*"
      ],
      "metadata": {
        "id": "Qn_jOyeqoItR"
      }
    },
    {
      "cell_type": "markdown",
      "source": [
        "Python also supports multiple assignment, where we can assign values to multiple variables at once:"
      ],
      "metadata": {
        "id": "R40Pxof3oL3y"
      }
    },
    {
      "cell_type": "code",
      "source": [
        "x, y, z = 1, 2, 3\n",
        "print(x,y,z)"
      ],
      "metadata": {
        "colab": {
          "base_uri": "https://localhost:8080/"
        },
        "id": "pLajLF6EoSNZ",
        "outputId": "9c8a7734-f163-46e8-d7bc-6a49434ff67d"
      },
      "execution_count": 18,
      "outputs": [
        {
          "output_type": "stream",
          "name": "stdout",
          "text": [
            "1 2 3\n"
          ]
        }
      ]
    },
    {
      "cell_type": "markdown",
      "source": [
        "*In this example, we're creating three variables (x, y, and z) and assigning the values 1, 2, and 3 to them, respectively.*"
      ],
      "metadata": {
        "id": "sBcYhpALomkp"
      }
    },
    {
      "cell_type": "markdown",
      "source": [
        "\n",
        "> Variables in Python are dynamically typed, which means that the type of a variable is determined based on the value it holds. This is different from statically typed languages, where the type of a variable is determined at compile time.\n",
        "\n"
      ],
      "metadata": {
        "id": "oUkPEncSop0I"
      }
    },
    {
      "cell_type": "markdown",
      "source": [
        "### **Program 2:** Write a program to display value of variables in python"
      ],
      "metadata": {
        "id": "FcfibxjSouew"
      }
    },
    {
      "cell_type": "code",
      "source": [
        "message = \"Keep Smiling\"\n",
        "print(message)\n",
        "userNo = 101\n",
        "print(\"User Number is\", userNo)"
      ],
      "metadata": {
        "colab": {
          "base_uri": "https://localhost:8080/"
        },
        "id": "_lnucN8Opr1R",
        "outputId": "e8ffbffb-37b1-487c-a997-434d510080e8"
      },
      "execution_count": 20,
      "outputs": [
        {
          "output_type": "stream",
          "name": "stdout",
          "text": [
            "Keep Smiling\n",
            "User Number is 101\n"
          ]
        }
      ]
    },
    {
      "cell_type": "markdown",
      "source": [
        "### **Program 3 :** Write a program to find the area of a rectangle given that its length is 10 units and breadth is 20 units"
      ],
      "metadata": {
        "id": "JzJAg9mzqdpx"
      }
    },
    {
      "cell_type": "code",
      "source": [
        "lenght = 10\n",
        "breadth = 20\n",
        "area = lenght * breadth\n",
        "print(area)"
      ],
      "metadata": {
        "colab": {
          "base_uri": "https://localhost:8080/"
        },
        "id": "uDNf_xCWqxrh",
        "outputId": "2dfc2115-f75d-4804-a5ab-58887a48f0b9"
      },
      "execution_count": 22,
      "outputs": [
        {
          "output_type": "stream",
          "name": "stdout",
          "text": [
            "200\n"
          ]
        }
      ]
    },
    {
      "cell_type": "markdown",
      "source": [
        "### Comments"
      ],
      "metadata": {
        "id": "3fldRmb9rDU5"
      }
    },
    {
      "cell_type": "markdown",
      "source": [
        "Comments are used in Python to provide information or explanations about the code. They are not executed as part of the program, but rather are ignored by the interpreter. Comments can be used to make code more readable, to explain how the code works, or to disable certain parts of the code during testing or debugging."
      ],
      "metadata": {
        "id": "Te-argShrFpS"
      }
    },
    {
      "cell_type": "markdown",
      "source": [
        "In Python, comments start with the hash symbol (#) and continue until the end of the line. Anything after the # symbol on that line is considered a comment and is not executed by the interpreter."
      ],
      "metadata": {
        "id": "CIEnp-hfrPd5"
      }
    },
    {
      "cell_type": "markdown",
      "source": [
        "**Here's an example:**"
      ],
      "metadata": {
        "id": "y_u9DhQJrTXE"
      }
    },
    {
      "cell_type": "code",
      "source": [
        "# This is a comment\n",
        "x = 5    # This is also a comment"
      ],
      "metadata": {
        "id": "Lvf32pZbrVvh"
      },
      "execution_count": 23,
      "outputs": []
    },
    {
      "cell_type": "markdown",
      "source": [
        "*In this example, we have two comments. The first comment explains what the code does, and the second comment provides additional information about the variable x.*"
      ],
      "metadata": {
        "id": "T9VpvVOOrbbr"
      }
    },
    {
      "cell_type": "markdown",
      "source": [
        "It's good practice to use comments to explain complex or difficult-to-understand code, or to provide context for other developers who may be working on the same codebase. However, it's also important not to overuse comments, as too many comments can make the code harder to read and understand."
      ],
      "metadata": {
        "id": "IFsTCFAZrc26"
      }
    },
    {
      "cell_type": "markdown",
      "source": [
        "In addition to inline comments, Python also supports docstrings, which are used to document modules, classes, functions, and methods. Docstrings are enclosed in triple quotes (\"\"\"...\"\"\") and are used to provide information about the purpose, parameters, return values, and any other relevant information about the object being documented."
      ],
      "metadata": {
        "id": "KaBi2LxnrgP8"
      }
    },
    {
      "cell_type": "markdown",
      "source": [
        "**Here's an example:**"
      ],
      "metadata": {
        "id": "KRL5ubnkrju6"
      }
    },
    {
      "cell_type": "code",
      "source": [
        "def my_function(x):\n",
        "    \"\"\"\n",
        "    This is a docstring.\n",
        "    It explains what my_function does.\n",
        "    \"\"\"\n",
        "    return x * 2"
      ],
      "metadata": {
        "id": "ED964ph3rpQA"
      },
      "execution_count": 24,
      "outputs": []
    },
    {
      "cell_type": "markdown",
      "source": [
        "*In this example, we have a function called my_function that takes one parameter (x) and returns the result of multiplying x by 2. The docstring provides additional information about the function and how it works.*"
      ],
      "metadata": {
        "id": "9_smXF4pruN5"
      }
    },
    {
      "cell_type": "markdown",
      "source": [
        "### **Program 4:** Write a program to find the sum of two numbers"
      ],
      "metadata": {
        "id": "OTLN3vrsrv5B"
      }
    },
    {
      "cell_type": "code",
      "source": [
        "num1 = 10\n",
        "num2 = 20\n",
        "result = num1 + num2\n",
        "print(result)"
      ],
      "metadata": {
        "colab": {
          "base_uri": "https://localhost:8080/"
        },
        "id": "mW7HHpRBs-g0",
        "outputId": "98093c9f-fa6b-44a0-e3e3-615e8803c9a8"
      },
      "execution_count": 25,
      "outputs": [
        {
          "output_type": "stream",
          "name": "stdout",
          "text": [
            "30\n"
          ]
        }
      ]
    },
    {
      "cell_type": "markdown",
      "source": [
        "## Everything is an Object"
      ],
      "metadata": {
        "id": "Zlmd0qkitKat"
      }
    },
    {
      "cell_type": "markdown",
      "source": [
        "In Python, everything is an object, including numbers, strings, lists, tuples, dictionaries, functions, and even modules. Each object has a unique ID, which is essentially its memory address, and this ID remains constant throughout the lifetime of the object."
      ],
      "metadata": {
        "id": "QfCNLUf9tN3x"
      }
    },
    {
      "cell_type": "markdown",
      "source": [
        "We can use the built-in id() function to get the identity of an object. **Here's an example:**"
      ],
      "metadata": {
        "id": "HWc50QIUtkep"
      }
    },
    {
      "cell_type": "code",
      "source": [
        "x = 5\n",
        "print(id(x))  # output: some integer value\n",
        "\n",
        "y = \"hello\"\n",
        "print(id(y))  # output: some integer value\n",
        "\n",
        "z = [1, 2, 3]\n",
        "print(id(z))  # output: some integer value\n"
      ],
      "metadata": {
        "colab": {
          "base_uri": "https://localhost:8080/"
        },
        "id": "OffmCZ80tqbO",
        "outputId": "a566db1a-d5b4-407a-f6f6-d944744c8473"
      },
      "execution_count": 26,
      "outputs": [
        {
          "output_type": "stream",
          "name": "stdout",
          "text": [
            "140404750072240\n",
            "140404242472240\n",
            "140404227881536\n"
          ]
        }
      ]
    },
    {
      "cell_type": "markdown",
      "source": [
        "*In this example, we're creating three different objects (x, y, and z) of different types (an integer, a string, and a list), and we're using the id() function to get their identities. Each object has a unique ID that remains constant throughout the lifetime of the object.*"
      ],
      "metadata": {
        "id": "xa3YZNEltxVG"
      }
    },
    {
      "cell_type": "markdown",
      "source": [
        "> Note that the is keyword can also be used to compare object identities. The is operator returns True if two objects have the same identity, and False otherwise."
      ],
      "metadata": {
        "id": "N75w6U4VtzVB"
      }
    },
    {
      "cell_type": "markdown",
      "source": [
        "**Here's an example:**"
      ],
      "metadata": {
        "id": "YABPNUDOt9xp"
      }
    },
    {
      "cell_type": "code",
      "source": [
        "x = 5\n",
        "y = 5\n",
        "print(x is y)  # output: True\n",
        "\n",
        "z = [1, 2, 3]\n",
        "w = [1, 2, 3]\n",
        "print(z is w)  # output: False"
      ],
      "metadata": {
        "colab": {
          "base_uri": "https://localhost:8080/"
        },
        "id": "GoIuFjGauAHy",
        "outputId": "5544829c-c20f-4e2c-aadf-86fcf02b4e4b"
      },
      "execution_count": 27,
      "outputs": [
        {
          "output_type": "stream",
          "name": "stdout",
          "text": [
            "True\n",
            "False\n"
          ]
        }
      ]
    },
    {
      "cell_type": "markdown",
      "source": [
        "*In this example, we're comparing the identities of two objects (x and y, and z and w) using the is operator. The first comparison returns True because x and y are both integers with the same value and identity. The second comparison returns False because z and w are different lists, even though they have the same values.*"
      ],
      "metadata": {
        "id": "o6IoYO5xuDuE"
      }
    },
    {
      "cell_type": "code",
      "source": [
        "num1 = 20\n",
        "print(id(num1))\n",
        "num2 = 30 - 10\n",
        "print(id(num2))"
      ],
      "metadata": {
        "colab": {
          "base_uri": "https://localhost:8080/"
        },
        "id": "JYlHWsQRuJyd",
        "outputId": "998afcc3-b156-4111-a9e0-c60d621aba54"
      },
      "execution_count": 28,
      "outputs": [
        {
          "output_type": "stream",
          "name": "stdout",
          "text": [
            "140404750072720\n",
            "140404750072720\n"
          ]
        }
      ]
    },
    {
      "cell_type": "markdown",
      "source": [],
      "metadata": {
        "id": "S4cH0Pxru7cy"
      }
    },
    {
      "cell_type": "markdown",
      "source": [
        "## Data Types"
      ],
      "metadata": {
        "id": "K775fzKAu9gK"
      }
    },
    {
      "cell_type": "markdown",
      "source": [
        "In Python, data types can be categorized into several categories, including:\n",
        "\n",
        "1. **Numbers:** Python supports several types of numbers, including integers, floats, and complex numbers. Integers represent whole numbers, floats represent decimal numbers, and complex numbers represent numbers with a real and imaginary part.\n",
        "\n",
        "2. **Sequences:** Sequences are ordered collections of items, and in Python, there are several types of sequences, including lists, tuples, and strings. Lists and tuples can contain any type of object, while strings can only contain characters.\n",
        "\n",
        "3. **Sets:** Sets are unordered collections of unique items. In Python, sets are represented using the set() function or by enclosing a comma-separated sequence of values in curly braces.\n",
        "\n",
        "4. **None:** None is a special data type in Python that represents the absence of a value. It is often used as a placeholder value or to represent the result of a function that doesn't return anything.\n",
        "\n",
        "5. **Mappings:** Mappings are collections of key-value pairs, and in Python, they are represented using dictionaries. Dictionaries are unordered collections of key-value pairs, where each key is unique and maps to a corresponding value."
      ],
      "metadata": {
        "id": "sbsiC1wpve1B"
      }
    },
    {
      "cell_type": "markdown",
      "source": [
        "**Here are some examples of these data types:**"
      ],
      "metadata": {
        "id": "RgrRiUEewt6i"
      }
    },
    {
      "cell_type": "markdown",
      "source": [
        "**Numbers:**"
      ],
      "metadata": {
        "id": "r34mYuLYw1Up"
      }
    },
    {
      "cell_type": "code",
      "source": [
        "x = 42             # integer\n",
        "y = 3.14159        # float\n",
        "z = 2 + 3j         # complex number\n",
        "print(x,y,z)"
      ],
      "metadata": {
        "colab": {
          "base_uri": "https://localhost:8080/"
        },
        "id": "z2S5OP34w8TS",
        "outputId": "84ac8553-0d48-4f00-b05d-aa74fa777425"
      },
      "execution_count": 30,
      "outputs": [
        {
          "output_type": "stream",
          "name": "stdout",
          "text": [
            "42 3.14159 (2+3j)\n"
          ]
        }
      ]
    },
    {
      "cell_type": "markdown",
      "source": [
        "**Sequences:**"
      ],
      "metadata": {
        "id": "pDypFbRXxCsy"
      }
    },
    {
      "cell_type": "code",
      "source": [
        "a = [1, 2, 3]      # list\n",
        "b = (4, 5, 6)      # tuple\n",
        "c = \"hello world\"  # string\n",
        "print(a,b,c)"
      ],
      "metadata": {
        "colab": {
          "base_uri": "https://localhost:8080/"
        },
        "id": "rC7af37axFQS",
        "outputId": "7717a832-e82e-433a-9ddc-c672ab95448b"
      },
      "execution_count": 31,
      "outputs": [
        {
          "output_type": "stream",
          "name": "stdout",
          "text": [
            "[1, 2, 3] (4, 5, 6) hello world\n"
          ]
        }
      ]
    },
    {
      "cell_type": "markdown",
      "source": [
        "**Sets:**"
      ],
      "metadata": {
        "id": "qUlqtVagxJWR"
      }
    },
    {
      "cell_type": "code",
      "source": [
        "s = set([1, 2, 3, 4])      # using the set() function\n",
        "t = {4, 5, 6, 7}          # using curly braces\n",
        "print(s,t)"
      ],
      "metadata": {
        "colab": {
          "base_uri": "https://localhost:8080/"
        },
        "id": "t5ImFjWJxLrs",
        "outputId": "8b9edb52-e885-4599-9dd0-b2c8dda4e35b"
      },
      "execution_count": 32,
      "outputs": [
        {
          "output_type": "stream",
          "name": "stdout",
          "text": [
            "{1, 2, 3, 4} {4, 5, 6, 7}\n"
          ]
        }
      ]
    },
    {
      "cell_type": "markdown",
      "source": [
        "**None:**"
      ],
      "metadata": {
        "id": "22f1XFWvxTsR"
      }
    },
    {
      "cell_type": "code",
      "source": [
        "def do_something():\n",
        "    None\n",
        "\n",
        "result = do_something()\n",
        "if result is None:\n",
        "    print(\"No result returned.\")"
      ],
      "metadata": {
        "colab": {
          "base_uri": "https://localhost:8080/"
        },
        "id": "aM1NVxOZxVIh",
        "outputId": "d847aca8-384e-46ec-9930-a9d1600f26a5"
      },
      "execution_count": 34,
      "outputs": [
        {
          "output_type": "stream",
          "name": "stdout",
          "text": [
            "No result returned.\n"
          ]
        }
      ]
    },
    {
      "cell_type": "markdown",
      "source": [
        "**Mappings:**"
      ],
      "metadata": {
        "id": "XzZJexlUxlO4"
      }
    },
    {
      "cell_type": "code",
      "source": [
        "d = {\"apple\": 2.99, \"banana\": 1.99, \"orange\": 0.99}  # dictionary\n",
        "print(d)"
      ],
      "metadata": {
        "colab": {
          "base_uri": "https://localhost:8080/"
        },
        "id": "7jN5_mxoxmfN",
        "outputId": "14772267-294a-4b8f-af3e-40d3ed01683e"
      },
      "execution_count": 35,
      "outputs": [
        {
          "output_type": "stream",
          "name": "stdout",
          "text": [
            "{'apple': 2.99, 'banana': 1.99, 'orange': 0.99}\n"
          ]
        }
      ]
    },
    {
      "cell_type": "markdown",
      "source": [
        "### Number"
      ],
      "metadata": {
        "id": "UfAb2pBbxukW"
      }
    },
    {
      "cell_type": "markdown",
      "source": [
        "In Python, numbers are a built-in data type and they can be categorized into three main types:\n",
        "\n",
        "1. **Integer:** This type represents whole numbers, and is denoted by the keyword int. Integers can be positive, negative, or zero. Examples of integers include 42, -7, and 0.\n",
        "\n",
        "2. **Float:** This type represents decimal numbers, and is denoted by the keyword float. Floats can be positive, negative, or zero, and they can have a fractional part. Examples of floats include 3.14, -0.5, and 2.0.\n",
        "\n",
        "3. **Complex:** This type represents complex numbers, which have a real part and an imaginary part, and is denoted by the keyword complex. Complex numbers are represented using the j suffix, such as 3 + 4j.\n",
        "\n",
        "Python also provides several built-in functions for working with numbers, including:\n",
        "\n",
        "* **abs(x):** Returns the absolute value of x.\n",
        "* **round(x, n):** Rounds x to n decimal places.\n",
        "* **pow(x, y):** Returns x raised to the power of y.\n",
        "* **max(iterable):** Returns the largest item in iterable.\n",
        "* **min(iterable):** Returns the smallest item in iterable."
      ],
      "metadata": {
        "id": "7nMpaSRcxxAu"
      }
    },
    {
      "cell_type": "markdown",
      "source": [
        "**Here are some examples of using numbers in Python:**"
      ],
      "metadata": {
        "id": "g7vKyw2Cyfdf"
      }
    },
    {
      "cell_type": "code",
      "source": [
        "x = 42      # integer\n",
        "y = 3.14    # float\n",
        "z = 2 + 3j  # complex\n",
        "\n",
        "print(x, type(x))  # output: 42 <class 'int'>\n",
        "print(y, type(y))  # output: 3.14 <class 'float'>\n",
        "print(z, type(z))  # output: (2+3j) <class 'complex'>\n",
        "\n",
        "print(abs(-5))     # output: 5\n",
        "print(round(3.14159, 2))  # output: 3.14\n",
        "print(pow(2, 3))   # output: 8\n",
        "print(max([1, 2, 3]))  # output: 3\n",
        "print(min([1, 2, 3]))  # output: 1\n"
      ],
      "metadata": {
        "colab": {
          "base_uri": "https://localhost:8080/"
        },
        "id": "Irq8SJzAyggc",
        "outputId": "2df177dd-b57d-4357-d3af-1e67a5a5c7e0"
      },
      "execution_count": 36,
      "outputs": [
        {
          "output_type": "stream",
          "name": "stdout",
          "text": [
            "42 <class 'int'>\n",
            "3.14 <class 'float'>\n",
            "(2+3j) <class 'complex'>\n",
            "5\n",
            "3.14\n",
            "8\n",
            "3\n",
            "1\n"
          ]
        }
      ]
    }
  ]
}